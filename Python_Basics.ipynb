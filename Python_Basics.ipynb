{
  "nbformat": 4,
  "nbformat_minor": 0,
  "metadata": {
    "colab": {
      "provenance": []
    },
    "kernelspec": {
      "name": "python3",
      "display_name": "Python 3"
    },
    "language_info": {
      "name": "python"
    }
  },
  "cells": [
    {
      "cell_type": "markdown",
      "source": [
        "Question 1 # What is Python, and why is it popular ?\n",
        "        - Python is a programming language that is easy to understand and write, making it a popular choice among developers and programmers.\n",
        "\n",
        "\n",
        "    "
      ],
      "metadata": {
        "id": "QuC5JiMiJSlH"
      }
    },
    {
      "cell_type": "code",
      "source": [
        "#Qusetion 1 : Write a Python program to print \"Hello, World! ?\n",
        "print(\"Hello, World!\")"
      ],
      "metadata": {
        "id": "IhhFws9BJRGW",
        "colab": {
          "base_uri": "https://localhost:8080/"
        },
        "outputId": "df291337-5b8a-4df8-b0a9-e9a4f223bb95"
      },
      "execution_count": null,
      "outputs": [
        {
          "output_type": "stream",
          "name": "stdout",
          "text": [
            "Hello, World!\n"
          ]
        }
      ]
    },
    {
      "cell_type": "markdown",
      "source": [
        "Question 2 # What is an interpreter in Python ?\n",
        " - An interpreter in Python is a program that reads and executes Python code line by line. It converts high-level Python code into machine-readable instructions in real-time, enabling the execution of the program.\n",
        "\n"
      ],
      "metadata": {
        "id": "754PLstSNmWt"
      }
    },
    {
      "cell_type": "code",
      "source": [
        "# Question 2 : Write a Python program that displays your name and age ?\n",
        "print (\"My name is Rajat Patial\")\n",
        "print (\"I am 24 years old\")\n",
        "\n"
      ],
      "metadata": {
        "colab": {
          "base_uri": "https://localhost:8080/"
        },
        "id": "Tf65ZdynPTvS",
        "outputId": "ac6c3898-8838-4506-d443-92a7fb401c9e"
      },
      "execution_count": null,
      "outputs": [
        {
          "output_type": "stream",
          "name": "stdout",
          "text": [
            "My name is Rajat Patial\n",
            "I am 24 years old\n"
          ]
        }
      ]
    },
    {
      "cell_type": "markdown",
      "source": [
        "Question 3 # What are pre-defined keywords in Python ?\n",
        " - Keywords are reserved words in Python that have special meanings and cannot be used as identifiers (variable names, function names, etc.).\n",
        "Examples of keywords include if, else, while, for, def, class, import, try, except, return, True, False, None, etc.\n"
      ],
      "metadata": {
        "id": "zZGkmZ5yRfPE"
      }
    },
    {
      "cell_type": "code",
      "source": [
        "# Question 3 : Write code to print all the pre-defined keywords in Python using the keyword library ?\n",
        " # Printing all the predefined keywords in Python\n",
        "help('keywords')"
      ],
      "metadata": {
        "colab": {
          "base_uri": "https://localhost:8080/"
        },
        "id": "Wachvhi-SAB8",
        "outputId": "dc6b121b-2488-4845-c47a-947b6a53768f"
      },
      "execution_count": null,
      "outputs": [
        {
          "output_type": "stream",
          "name": "stdout",
          "text": [
            "\n",
            "Here is a list of the Python keywords.  Enter any keyword to get more help.\n",
            "\n",
            "False               class               from                or\n",
            "None                continue            global              pass\n",
            "True                def                 if                  raise\n",
            "and                 del                 import              return\n",
            "as                  elif                in                  try\n",
            "assert              else                is                  while\n",
            "async               except              lambda              with\n",
            "await               finally             nonlocal            yield\n",
            "break               for                 not                 \n",
            "\n"
          ]
        }
      ]
    },
    {
      "cell_type": "markdown",
      "source": [
        " Question 4 # Can keywords be used as variable names ?\n",
        "  - No, keywords cannot be used as variable names in Python.\n",
        "\n",
        "\n",
        "\n"
      ],
      "metadata": {
        "id": "_ObYOfrbUuCJ"
      }
    },
    {
      "cell_type": "markdown",
      "source": [],
      "metadata": {
        "id": "S6pVz7FMVuGP"
      }
    },
    {
      "cell_type": "code",
      "source": [
        "# Question 4 : Write a program that checks if a given word is a Python keyword ?\n",
        " ##python is case sensitive programming language\n",
        "a = 5\n",
        "A=15\n"
      ],
      "metadata": {
        "id": "bDLiNGkEVvXD"
      },
      "execution_count": null,
      "outputs": []
    },
    {
      "cell_type": "code",
      "source": [
        "a"
      ],
      "metadata": {
        "id": "KBxV2VlPWo-a"
      },
      "execution_count": null,
      "outputs": []
    }
  ]
}